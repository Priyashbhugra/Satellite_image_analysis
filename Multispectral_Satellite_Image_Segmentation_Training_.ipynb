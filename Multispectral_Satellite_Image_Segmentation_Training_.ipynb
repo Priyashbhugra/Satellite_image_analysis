{
  "nbformat": 4,
  "nbformat_minor": 0,
  "metadata": {
    "colab": {
      "name": "Multispectral_Satellite_Image_Segmentation_Training.ipynb",
      "provenance": [],
      "collapsed_sections": []
    },
    "kernelspec": {
      "name": "python3",
      "display_name": "Python 3"
    },
    "language_info": {
      "name": "python"
    },
    "accelerator": "GPU"
  },
  "cells": [
    {
      "cell_type": "code",
      "metadata": {
        "colab": {
          "base_uri": "https://localhost:8080/"
        },
        "id": "OmyeuoMHhHMi",
        "outputId": "e6013f7a-c5df-4eb4-9119-8bdaa45bc080"
      },
      "source": [
        "pip install tifffile"
      ],
      "execution_count": 1,
      "outputs": [
        {
          "output_type": "stream",
          "text": [
            "Requirement already satisfied: tifffile in /usr/local/lib/python3.7/dist-packages (2021.6.14)\n",
            "Requirement already satisfied: numpy>=1.15.1 in /usr/local/lib/python3.7/dist-packages (from tifffile) (1.19.5)\n"
          ],
          "name": "stdout"
        }
      ]
    },
    {
      "cell_type": "code",
      "metadata": {
        "id": "KEQ-MA7WaVa3"
      },
      "source": [
        "import cv2\n",
        "import numpy as np\n",
        "import matplotlib.pyplot as plt\n",
        "import os\n",
        "from tifffile import imread\n",
        "from PIL import Image\n",
        "from google.colab.patches import cv2_imshow\n",
        "import random\n",
        "import torch\n",
        "from torch.utils.data import DataLoader, Dataset\n",
        "from torch import nn\n",
        "from tqdm import tqdm\n",
        "from torch.utils.tensorboard import SummaryWriter"
      ],
      "execution_count": 1,
      "outputs": []
    },
    {
      "cell_type": "code",
      "metadata": {
        "id": "avXTWAnDr5EZ"
      },
      "source": [
        "os.environ['CUDA_LAUNCH_BLOCKING'] = \"1\""
      ],
      "execution_count": 2,
      "outputs": []
    },
    {
      "cell_type": "code",
      "metadata": {
        "colab": {
          "base_uri": "https://localhost:8080/"
        },
        "id": "My86lzKmEYel",
        "outputId": "77b7ebab-0696-42df-924c-0ffa38c0b887"
      },
      "source": [
        "from google.colab import drive\n",
        "drive.mount('/content/drive')"
      ],
      "execution_count": 5,
      "outputs": [
        {
          "output_type": "stream",
          "text": [
            "Drive already mounted at /content/drive; to attempt to forcibly remount, call drive.mount(\"/content/drive\", force_remount=True).\n"
          ],
          "name": "stdout"
        }
      ]
    },
    {
      "cell_type": "code",
      "metadata": {
        "id": "Ydq1r0CQbxEN"
      },
      "source": [
        "data_path = \"/content/drive/MyDrive/Sentinel/\"\n",
        "checkpoint_path = '/content/drive/MyDrive/Satellite_image_segmenattion/Checkpoints/unet_multispectral_segmentation.pth.tar'\n",
        "results_image_path = '/content/drive/MyDrive/Satellite_image_segmenattion/saved_images/multispectral_images/'\n",
        "images_path = data_path + \"images\"\n",
        "labels_path = data_path + \"labels\"\n",
        "images_id = [f.name for f in os.scandir(images_path)]"
      ],
      "execution_count": 23,
      "outputs": []
    },
    {
      "cell_type": "markdown",
      "metadata": {
        "id": "fayKoXbGt-IT"
      },
      "source": [
        "## **Visualization of a Multi Spectral Image along with its corresponding mask.**"
      ]
    },
    {
      "cell_type": "code",
      "metadata": {
        "id": "yZ1yTbaNc_NF"
      },
      "source": [
        "def read_image(images_path,labels_path,id):\n",
        "  image = os.path.join(images_path,images_id[id],\"07.tif\")\n",
        "  label = os.path.join(labels_path,images_id[id],\"dlt.tif\")\n",
        "  img = imread(image)\n",
        "  label = imread(label)\n",
        "  return img,label\n",
        "\n",
        "def rgb_image_preprocessing(img):\n",
        "  rgb_image = img[:,:,[2,1,0]]\n",
        "  rgb_image = np.int16(rgb_image)\n",
        "  rgb_image = np.clip(rgb_image,0,1500)\n",
        "  rgb_image = rgb_image/1500 * 255\n",
        "  rgb_image = np.float32(rgb_image)\n",
        "  return rgb_image\n",
        "\n",
        "def multispectral_image_preprocessing(img):\n",
        "  rgb_image = img[:,:,:]\n",
        "  rgb_image = np.int16(rgb_image)\n",
        "  rgb_image = np.clip(rgb_image,0,1500)\n",
        "  rgb_image = rgb_image/1500 * 255\n",
        "  rgb_image = np.float32(rgb_image)\n",
        "  return rgb_image\n",
        "  \n",
        "def labelVisualize(num_class, color_dict, img):\n",
        "  img = img[:,:,0] if len(img.shape) == 3 else img\n",
        "  img_out = np.zeros((64, 64, 3))\n",
        "  for i in range(num_class):\n",
        "      img_out[img == i,:] = np.asarray(color_dict[i])\n",
        "  return img_out\n",
        "\n",
        "color_dict = {\n",
        "    0: [255, 0, 0],\n",
        "    1: [0, 255, 0],\n",
        "    2: [0, 0, 255],\n",
        "}\n"
      ],
      "execution_count": 24,
      "outputs": []
    },
    {
      "cell_type": "code",
      "metadata": {
        "id": "FsuaD56wcyQU"
      },
      "source": [
        "# visualization on 1 sample image\n",
        "image,label = read_image(images_path,labels_path,id=20)\n",
        "num_classes = len(np.unique(label))  # No of classes for segmentation\n",
        "rgb_image = rgb_image_preprocessing(image)\n",
        "mulitspectral_image = multispectral_image_preprocessing(image)\n",
        "\n",
        "# visualization on 2 sample image\n",
        "image1,label1 = read_image(images_path,labels_path,id=5)\n",
        "rgb_image_01 = rgb_image_preprocessing(image1)\n"
      ],
      "execution_count": 25,
      "outputs": []
    },
    {
      "cell_type": "code",
      "metadata": {
        "colab": {
          "base_uri": "https://localhost:8080/",
          "height": 362
        },
        "id": "k3849KZ1ASik",
        "outputId": "132f2b75-9844-47ad-a012-829527a8d4bd"
      },
      "source": [
        "label = labelVisualize(num_classes,color_dict,label)\n",
        "label_01 = labelVisualize(num_classes,color_dict,label1)\n",
        "print(\"Image\")\n",
        "cv2_imshow(rgb_image)\n",
        "print(\"Label\")\n",
        "cv2_imshow(label)\n",
        "print(\"----------------------\")\n",
        "print(\"Image\")\n",
        "cv2_imshow(rgb_image_01)\n",
        "print(\"Label\")\n",
        "cv2_imshow(label_01)"
      ],
      "execution_count": 26,
      "outputs": [
        {
          "output_type": "stream",
          "text": [
            "Image\n"
          ],
          "name": "stdout"
        },
        {
          "output_type": "display_data",
          "data": {
            "image/png": "[encoded data removed]",
            "text/plain": [
              "<PIL.Image.Image image mode=RGB size=64x64 at 0x7F46838FFCD0>"
            ]
          },
          "metadata": {
            "tags": []
          }
        },
        {
          "output_type": "stream",
          "text": [
            "Label\n"
          ],
          "name": "stdout"
        },
        {
          "output_type": "display_data",
          "data": {
            "image/png": "[encoded data removed]",
            "text/plain": [
              "<PIL.Image.Image image mode=RGB size=64x64 at 0x7F468390C8D0>"
            ]
          },
          "metadata": {
            "tags": []
          }
        },
        {
          "output_type": "stream",
          "text": [
            "----------------------\n",
            "Image\n"
          ],
          "name": "stdout"
        },
        {
          "output_type": "display_data",
          "data": {
            "image/png": "[encoded data removed]",
            "text/plain": [
              "<PIL.Image.Image image mode=RGB size=64x64 at 0x7F468390C810>"
            ]
          },
          "metadata": {
            "tags": []
          }
        },
        {
          "output_type": "stream",
          "text": [
            "Label\n"
          ],
          "name": "stdout"
        },
        {
          "output_type": "display_data",
          "data": {
            "image/png": "[encoded data removed]",
            "text/plain": [
              "<PIL.Image.Image image mode=RGB size=64x64 at 0x7F468390CA50>"
            ]
          },
          "metadata": {
            "tags": []
          }
        }
      ]
    },
    {
      "cell_type": "markdown",
      "metadata": {
        "id": "B22s8LIbuHP9"
      },
      "source": [
        "**Next shuffle and split the images in train(70%), val(20%), test(10%). I have stored the id's of the image in 3 seperate file.**\n"
      ]
    },
    {
      "cell_type": "code",
      "metadata": {
        "colab": {
          "base_uri": "https://localhost:8080/"
        },
        "id": "XCwFonnRtA6e",
        "outputId": "7c4f21a2-e89d-42b3-9cb6-fa804eb40d5a"
      },
      "source": [
        "if os.path.exists('/content/drive/MyDrive/Sentinel/train.txt'):\n",
        "  print(\"Train split file already exist\")\n",
        "else:\n",
        "  random.shuffle(images_id)\n",
        "  train_image_id = images_id[0:3960]\n",
        "  with open(\"/content/drive/MyDrive/Sentinel/train.txt\", \"w\") as f:\n",
        "    for train_item in train_image_id:\n",
        "        f.write(\"%s\\n\" % train_item)\n",
        "\n",
        "if os.path.exists('/content/drive/MyDrive/Sentinel/val.txt'):\n",
        "  print(\"Val split file already exist\")\n",
        "else:\n",
        "  val_image_id = images_id[3960:5052]\n",
        "  with open(\"/content/drive/MyDrive/Sentinel/val.txt\", \"w\") as f:\n",
        "      for val_item in val_image_id:\n",
        "          f.write(\"%s\\n\" % val_item)\n",
        "\n",
        "if os.path.exists('/content/drive/MyDrive/Sentinel/test.txt'):\n",
        "  print(\"Test split file already exist\")\n",
        "else:\n",
        "  test_image_id = images_id[5052:]\n",
        "  with open(\"/content/drive/MyDrive/Sentinel/test.txt\", \"w\") as f:\n",
        "      for test_item in test_image_id:\n",
        "          f.write(\"%s\\n\" % test_item)\n",
        "\n",
        "\n",
        "with open(\"/content/drive/MyDrive/Sentinel/train.txt\", \"r\") as f:\n",
        "    train_idx = [idx.rstrip() for idx in f]\n",
        "with open(\"/content/drive/MyDrive/Sentinel/val.txt\", \"r\") as f:\n",
        "    val_idx = [idx.rstrip() for idx in f]\n",
        "with open(\"/content/drive/MyDrive/Sentinel/test.txt\", \"r\") as f:\n",
        "    test_idx = [idx.rstrip() for idx in f]\n"
      ],
      "execution_count": 27,
      "outputs": [
        {
          "output_type": "stream",
          "text": [
            "Train split file already exist\n",
            "Val split file already exist\n",
            "Test split file already exist\n"
          ],
          "name": "stdout"
        }
      ]
    },
    {
      "cell_type": "code",
      "metadata": {
        "id": "z20b5bOOwIXw"
      },
      "source": [
        "class Segmentation_Dataset(Dataset):\n",
        "    \"\"\" Image sedmenattion.\"\"\"\n",
        "\n",
        "    def __init__(self, data_path, images_ids):\n",
        "        self.images_path = data_path + \"images\"\n",
        "        self.labels_path = data_path + \"labels\"\n",
        "        self.images_ids = images_ids\n",
        "\n",
        "    def __len__(self):\n",
        "        return len(self.images_ids)\n",
        "\n",
        "    def __getitem__(self, idx):\n",
        "        image = os.path.join(self.images_path,self.images_ids[idx],\"07.tif\")\n",
        "        label = os.path.join(self.labels_path,self.images_ids[idx],\"dlt.tif\")\n",
        "        image = imread(image)\n",
        "        label = imread(label)\n",
        "        label[label==255]=0\n",
        "        # Data Preprocesing for multi spectral images\n",
        "        multi_spectral_image = np.transpose(image[:,:,:])\n",
        "        multi_spectral_image = np.int16(multi_spectral_image)\n",
        "        multi_spectral_image = np.clip(multi_spectral_image,0,2000)\n",
        "        multi_spectral_image = multi_spectral_image/2000 * 255\n",
        "        multi_spectral_image = np.float32(multi_spectral_image)\n",
        "\n",
        "        rgb_image = rgb_image_preprocessing(image)\n",
        "\n",
        "        multi_spectral_image = torch.tensor(multi_spectral_image)\n",
        "        label = torch.tensor(label)\n",
        "        return multi_spectral_image,label,rgb_image"
      ],
      "execution_count": 28,
      "outputs": []
    },
    {
      "cell_type": "code",
      "metadata": {
        "id": "MSbyswh93NZr"
      },
      "source": [
        "class UNET(nn.Module):\n",
        "    def __init__(self, in_channels, out_channels):\n",
        "        super().__init__()\n",
        "\n",
        "        self.conv1 = self.contract_block(in_channels, 32, 7, 3)\n",
        "        self.conv2 = self.contract_block(32, 64, 3, 1)\n",
        "        self.conv3 = self.contract_block(64, 128, 3, 1)\n",
        "\n",
        "        self.upconv3 = self.expand_block(128, 64, 3, 1)\n",
        "        self.upconv2 = self.expand_block(64*2, 32, 3, 1)\n",
        "        self.upconv1 = self.expand_block(32*2, out_channels, 3, 1)\n",
        "\n",
        "    def __call__(self, x):\n",
        "\n",
        "        # downsampling part\n",
        "        conv1 = self.conv1(x)\n",
        "        conv2 = self.conv2(conv1)\n",
        "        conv3 = self.conv3(conv2)\n",
        "\n",
        "        upconv3 = self.upconv3(conv3)\n",
        "\n",
        "        upconv2 = self.upconv2(torch.cat([upconv3, conv2], 1))\n",
        "        upconv1 = self.upconv1(torch.cat([upconv2, conv1], 1))\n",
        "\n",
        "        return upconv1\n",
        "\n",
        "    def contract_block(self, in_channels, out_channels, kernel_size, padding):\n",
        "\n",
        "        contract = nn.Sequential(\n",
        "            torch.nn.Conv2d(in_channels, out_channels, kernel_size=kernel_size, stride=1, padding=padding),\n",
        "            torch.nn.BatchNorm2d(out_channels),\n",
        "            torch.nn.ReLU(),\n",
        "            torch.nn.Conv2d(out_channels, out_channels, kernel_size=kernel_size, stride=1, padding=padding),\n",
        "            torch.nn.BatchNorm2d(out_channels),\n",
        "            torch.nn.ReLU(),\n",
        "            torch.nn.MaxPool2d(kernel_size=3, stride=2, padding=1)\n",
        "                                 )\n",
        "\n",
        "        return contract\n",
        "\n",
        "    def expand_block(self, in_channels, out_channels, kernel_size, padding):\n",
        "\n",
        "        expand = nn.Sequential(torch.nn.Conv2d(in_channels, out_channels, kernel_size, stride=1, padding=padding),\n",
        "                            torch.nn.BatchNorm2d(out_channels),\n",
        "                            torch.nn.ReLU(),\n",
        "                            torch.nn.Conv2d(out_channels, out_channels, kernel_size, stride=1, padding=padding),\n",
        "                            torch.nn.BatchNorm2d(out_channels),\n",
        "                            torch.nn.ReLU(),\n",
        "                            torch.nn.ConvTranspose2d(out_channels, out_channels, kernel_size=3, stride=2, padding=1, output_padding=1) \n",
        "                            )\n",
        "        return expand\n"
      ],
      "execution_count": 29,
      "outputs": []
    },
    {
      "cell_type": "code",
      "metadata": {
        "id": "fyiT9rSB41RD"
      },
      "source": [
        "unet = UNET(12,num_classes).cuda()"
      ],
      "execution_count": 30,
      "outputs": []
    },
    {
      "cell_type": "code",
      "metadata": {
        "id": "7Oq0kkFO5Qc-"
      },
      "source": [
        "train_dataset = Segmentation_Dataset(data_path, train_idx)\n",
        "val_dataset = Segmentation_Dataset(data_path, val_idx)\n",
        "test_dataset = Segmentation_Dataset(data_path, test_idx)\n",
        "\n",
        "train_dl = DataLoader(train_dataset, batch_size=16, shuffle=True, drop_last=True)\n",
        "val_dl = DataLoader(val_dataset, batch_size=16, shuffle=True, drop_last=True)\n",
        "test_dl = DataLoader(test_dataset, batch_size=16, shuffle=True, drop_last=True)\n",
        "\n",
        "loss_function = nn.CrossEntropyLoss()"
      ],
      "execution_count": 31,
      "outputs": []
    },
    {
      "cell_type": "code",
      "metadata": {
        "id": "veVslC536HF7"
      },
      "source": [
        "def train(model, dataloader, epochs, optimizer, loss_fn, device = \"cuda\"):\n",
        "  model.train()\n",
        "  train_running_loss = 0.0\n",
        "  for iter,(image,label) in enumerate(dataloader):\n",
        "    image = image.to(device)\n",
        "    label = label.to(device)\n",
        "\n",
        "    optimizer.zero_grad()\n",
        "\n",
        "    output = model(image)\n",
        "    loss = loss_function(output,label.long())\n",
        "    if iter%100 == 0:\n",
        "      print(\"Train epochs: \"+str(epochs)+\" Iteration: \"+str(iter)+\" loss: \"+str(loss.item()))\n",
        "\n",
        "    train_running_loss += loss.item()\n",
        "    loss.backward()\n",
        "    optimizer.step()\n",
        "  \n",
        "  return train_running_loss/len(dataloader)\n",
        "\n",
        "def val(model, dataloader, epochs, loss_fn, device = \"cuda\"):\n",
        "  model.eval()\n",
        "  val_running_loss = 0.0\n",
        "  for iter,(image,label) in enumerate(dataloader):\n",
        "    image = image.to(device)\n",
        "    label = label.to(device)\n",
        "    output = model(image)\n",
        "    loss = loss_function(output,label.long())\n",
        "    if iter%100 == 0:\n",
        "      print(\"Val epochs: \"+str(epochs)+\" Iteration: \"+str(iter)+\" loss: \"+str(loss.item()))\n",
        "\n",
        "    val_running_loss += loss.item()\n",
        "\n",
        "  return val_running_loss/len(dataloader)\n",
        "\n"
      ],
      "execution_count": 32,
      "outputs": []
    },
    {
      "cell_type": "code",
      "metadata": {
        "id": "yjCcViMRLidK",
        "colab": {
          "base_uri": "https://localhost:8080/"
        },
        "outputId": "74a62a2f-4c67-441d-d183-e0d54496775f"
      },
      "source": [
        "num_of_epochs = 10\n",
        "optimizer = torch.optim.Adam(unet.parameters(), lr=0.01)\n",
        "min_loss = np.inf\n",
        "for epoch in tqdm(range(num_of_epochs)):\n",
        "  train_loss = train(unet, train_dl, epoch, optimizer, loss_function, device=\"cuda\")\n",
        "  val_loss = val(unet, val_dl, epoch, loss_function, device=\"cuda\")\n",
        "  # writer.add_scalar(\"Loss/train\", train_loss, epoch)\n",
        "  # writer.add_scalar(\"Loss/val\", val_loss, epoch)\n",
        "  \n",
        "  if (val_loss < min_loss):\n",
        "    min_loss = val_loss\n",
        "    checkpoint = {\n",
        "        \"model\" : unet.state_dict(),\n",
        "        \"Val Loss\" : val_loss\n",
        "    }\n",
        "    torch.save(checkpoint,\"/content/drive/MyDrive/Satellite_image_segmenattion/Checkpoints/unet_multispectral_segmentation.pth.tar\")"
      ],
      "execution_count": 28,
      "outputs": [
        {
          "output_type": "stream",
          "text": [
            "\n",
            "  0%|          | 0/10 [00:00<?, ?it/s]\u001b[A"
          ],
          "name": "stderr"
        },
        {
          "output_type": "stream",
          "text": [
            "Train epochs: 0 Iteration: 0 loss: 0.7001374363899231\n",
            "Train epochs: 0 Iteration: 100 loss: 0.6869183778762817\n",
            "Train epochs: 0 Iteration: 200 loss: 0.6889840960502625\n",
            "Val epochs: 0 Iteration: 0 loss: 0.7887331247329712\n"
          ],
          "name": "stdout"
        },
        {
          "output_type": "stream",
          "text": [
            "\n",
            " 10%|█         | 1/10 [15:00<2:15:01, 900.13s/it]\u001b[A"
          ],
          "name": "stderr"
        },
        {
          "output_type": "stream",
          "text": [
            "Train epochs: 1 Iteration: 0 loss: 0.6126732230186462\n",
            "Train epochs: 1 Iteration: 100 loss: 0.4847978949546814\n",
            "Train epochs: 1 Iteration: 200 loss: 0.555462121963501\n",
            "Val epochs: 1 Iteration: 0 loss: 0.7173359394073486\n"
          ],
          "name": "stdout"
        },
        {
          "output_type": "stream",
          "text": [
            "\n",
            " 20%|██        | 2/10 [15:35<1:25:25, 640.66s/it]\u001b[A"
          ],
          "name": "stderr"
        },
        {
          "output_type": "stream",
          "text": [
            "Train epochs: 2 Iteration: 0 loss: 0.6752840280532837\n",
            "Train epochs: 2 Iteration: 100 loss: 0.7694860100746155\n",
            "Train epochs: 2 Iteration: 200 loss: 0.5169468522071838\n",
            "Val epochs: 2 Iteration: 0 loss: 0.8810540437698364\n"
          ],
          "name": "stdout"
        },
        {
          "output_type": "stream",
          "text": [
            "\n",
            " 30%|███       | 3/10 [16:07<53:26, 458.03s/it]  \u001b[A"
          ],
          "name": "stderr"
        },
        {
          "output_type": "stream",
          "text": [
            "Train epochs: 3 Iteration: 0 loss: 0.48673921823501587\n",
            "Train epochs: 3 Iteration: 100 loss: 0.439312219619751\n",
            "Train epochs: 3 Iteration: 200 loss: 0.47325819730758667\n",
            "Val epochs: 3 Iteration: 0 loss: 0.7878968119621277\n"
          ],
          "name": "stdout"
        },
        {
          "output_type": "stream",
          "text": [
            "\n",
            " 40%|████      | 4/10 [16:38<33:00, 330.07s/it]\u001b[A"
          ],
          "name": "stderr"
        },
        {
          "output_type": "stream",
          "text": [
            "Train epochs: 4 Iteration: 0 loss: 0.49590545892715454\n",
            "Train epochs: 4 Iteration: 100 loss: 0.5909068584442139\n",
            "Train epochs: 4 Iteration: 200 loss: 0.5030215382575989\n",
            "Val epochs: 4 Iteration: 0 loss: 1.3106498718261719\n"
          ],
          "name": "stdout"
        },
        {
          "output_type": "stream",
          "text": [
            "\n",
            " 50%|█████     | 5/10 [17:10<20:02, 240.53s/it]\u001b[A"
          ],
          "name": "stderr"
        },
        {
          "output_type": "stream",
          "text": [
            "Train epochs: 5 Iteration: 0 loss: 0.6246559619903564\n",
            "Train epochs: 5 Iteration: 100 loss: 0.4600304365158081\n",
            "Train epochs: 5 Iteration: 200 loss: 0.5973318815231323\n",
            "Val epochs: 5 Iteration: 0 loss: 0.7210031151771545\n"
          ],
          "name": "stdout"
        },
        {
          "output_type": "stream",
          "text": [
            "\n",
            " 60%|██████    | 6/10 [17:41<11:51, 177.83s/it]\u001b[A"
          ],
          "name": "stderr"
        },
        {
          "output_type": "stream",
          "text": [
            "Train epochs: 6 Iteration: 0 loss: 0.6589241623878479\n",
            "Train epochs: 6 Iteration: 100 loss: 0.4849860370159149\n",
            "Train epochs: 6 Iteration: 200 loss: 0.39225056767463684\n",
            "Val epochs: 6 Iteration: 0 loss: 1.0297205448150635\n"
          ],
          "name": "stdout"
        },
        {
          "output_type": "stream",
          "text": [
            "\n",
            " 70%|███████   | 7/10 [18:13<06:41, 133.94s/it]\u001b[A"
          ],
          "name": "stderr"
        },
        {
          "output_type": "stream",
          "text": [
            "Train epochs: 7 Iteration: 0 loss: 0.4919217824935913\n",
            "Train epochs: 7 Iteration: 100 loss: 0.3637803792953491\n",
            "Train epochs: 7 Iteration: 200 loss: 0.5066425800323486\n",
            "Val epochs: 7 Iteration: 0 loss: 0.5763714909553528\n"
          ],
          "name": "stdout"
        },
        {
          "output_type": "stream",
          "text": [
            "\n",
            " 80%|████████  | 8/10 [18:44<03:26, 103.20s/it]\u001b[A"
          ],
          "name": "stderr"
        },
        {
          "output_type": "stream",
          "text": [
            "Train epochs: 8 Iteration: 0 loss: 0.5371543169021606\n",
            "Train epochs: 8 Iteration: 100 loss: 0.45288604497909546\n",
            "Train epochs: 8 Iteration: 200 loss: 0.43352967500686646\n",
            "Val epochs: 8 Iteration: 0 loss: 0.6014165282249451\n"
          ],
          "name": "stdout"
        },
        {
          "output_type": "stream",
          "text": [
            "\n",
            " 90%|█████████ | 9/10 [19:16<01:21, 81.66s/it] \u001b[A"
          ],
          "name": "stderr"
        },
        {
          "output_type": "stream",
          "text": [
            "Train epochs: 9 Iteration: 0 loss: 0.38694700598716736\n",
            "Train epochs: 9 Iteration: 100 loss: 0.6187266111373901\n",
            "Train epochs: 9 Iteration: 200 loss: 0.3343122601509094\n",
            "Val epochs: 9 Iteration: 0 loss: 1.1201841831207275\n"
          ],
          "name": "stdout"
        },
        {
          "output_type": "stream",
          "text": [
            "\n",
            "100%|██████████| 10/10 [19:47<00:00, 118.79s/it]\n"
          ],
          "name": "stderr"
        }
      ]
    },
    {
      "cell_type": "code",
      "metadata": {
        "id": "68bYi-hlKsim"
      },
      "source": [
        "# Load RGB model\n",
        "def Load_model(model_dir):  \n",
        "  checkpoint = torch.load(model_dir)\n",
        "  model = unet\n",
        "  model.load_state_dict(checkpoint['model'])\n",
        "  model = model.to(device=\"cuda\")\n",
        "  model.eval()\n",
        "  return model"
      ],
      "execution_count": 33,
      "outputs": []
    },
    {
      "cell_type": "code",
      "metadata": {
        "id": "QBAdSL_VTGu0"
      },
      "source": [
        "def one_hot_encoding(label):\n",
        "    labels = [0, 1, 2]\n",
        "    semantics = []\n",
        "    for colour in labels:\n",
        "        equality = np.equal(label, colour)\n",
        "        semantics.append(equality)\n",
        "    semantics = np.stack(semantics, axis=-1)\n",
        "    return semantics\n",
        "\n",
        "def accuracy(outputs, labels):\n",
        "    tp = torch.sum(torch.logical_and(labels, outputs))\n",
        "    tn = torch.numel(outputs) - torch.sum(torch.logical_or(labels, outputs))\n",
        "    acc = (tp + tn) / torch.numel(outputs)\n",
        "    return acc\n",
        "\n",
        "def iou_matrix(outputs, labels):\n",
        "    intersection = torch.logical_and(labels, outputs)\n",
        "    union = torch.logical_or(labels, outputs)\n",
        "    iou = (torch.sum(intersection) + SMOOTH) / (torch.sum(union)+ SMOOTH)\n",
        "    return iou"
      ],
      "execution_count": 34,
      "outputs": []
    },
    {
      "cell_type": "code",
      "metadata": {
        "colab": {
          "base_uri": "https://localhost:8080/",
          "height": 1000
        },
        "id": "MK7eZWiaTJxT",
        "outputId": "a01cc537-093d-413d-ebcc-c7a1b0194c9a"
      },
      "source": [
        "running_acc = 0.0\n",
        "running_iou = 0.0\n",
        "SMOOTH = 1e-6\n",
        "device = 'cuda'\n",
        "# Load the model for inference\n",
        "model = Load_model(checkpoint_path)\n",
        "# iteration over all the test images\n",
        "for idx, item in enumerate(test_dl):\n",
        "  image = item[0].to(device)\n",
        "  label = item[1]\n",
        "  rgb_image = item[2].to(device)\n",
        "  # print(item[0].shape,item[1].shape,item[2].shape)\n",
        "  # break\n",
        "\n",
        "  one_hot_label = one_hot_encoding(label.numpy())\n",
        "  label = label.to(device)\n",
        "  output = model(image)\n",
        "  output = torch.argmax(output, dim=1)\n",
        "  \n",
        "  output_for_metrics = torch.Tensor(one_hot_encoding(output.detach().cpu().numpy())).int()\n",
        "  label_for_metrics = torch.tensor(one_hot_label)\n",
        "\n",
        "  # accuaracy metric\n",
        "  acc = accuracy(output_for_metrics, label_for_metrics)\n",
        "  running_acc += acc\n",
        "\n",
        "  # iou metric\n",
        "  iou = iou_matrix(output_for_metrics, label_for_metrics)\n",
        "  running_iou += iou\n",
        "\n",
        "  # Visualization of every 5th image from the test sample\n",
        "  if idx % 5 == 0:\n",
        "    fig = plt.figure(figsize=(10, 7))\n",
        "    image = torch.transpose(image[0], 0, 2).cpu().numpy()\n",
        "\n",
        "    output = output[0].detach().cpu().numpy()\n",
        "    output = labelVisualize(3, color_dict, output)\n",
        "\n",
        "    label = label[0].cpu().numpy()  \n",
        "    label = labelVisualize(3, color_dict, label)\n",
        "\n",
        "    # cv2.imwrite(results_image_path+'res'+str(idx)+'_image.png',rgb_image)\n",
        "    cv2.imwrite(results_image_path+'res'+str(idx)+'_label.png',label)\n",
        "    cv2.imwrite(results_image_path+'res'+str(idx)+'_output.png',output)\n",
        "    # print(\"Image\")\n",
        "    # cv2_imshow(rgb_image)\n",
        "    print(\"Multi spectral image label\")\n",
        "    cv2_imshow(label)\n",
        "    print(\"Multi spectral Network Output\")\n",
        "    cv2_imshow(output)\n",
        "    print(\"---------------------------\")\n",
        "    if idx == 100:  # To visualize the results on the first few images from the test dataset\n",
        "      break\n",
        "\n",
        "mean_acc = running_acc / len(test_dl)  # Mean accuaracy\n",
        "mean_iou = running_iou / len(test_dl)  # Mean IOU\n",
        "print(\"Mean Average Accutacy: \"+str(mean_acc)+\" Mean IOU: \"+str(mean_iou))"
      ],
      "execution_count": 37,
      "outputs": [
        {
          "output_type": "stream",
          "text": [
            "Multi spectral image label\n"
          ],
          "name": "stdout"
        },
        {
          "output_type": "display_data",
          "data": {
            "image/png": "[encoded data removed]",
            "text/plain": [
              "<PIL.Image.Image image mode=RGB size=64x64 at 0x7F46837D7050>"
            ]
          },
          "metadata": {
            "tags": []
          }
        },
        {
          "output_type": "stream",
          "text": [
            "Multi spectral Network Output\n"
          ],
          "name": "stdout"
        },
        {
          "output_type": "display_data",
          "data": {
            "image/png": "[encoded data removed]",
            "text/plain": [
              "<PIL.Image.Image image mode=RGB size=64x64 at 0x7F46837D5A90>"
            ]
          },
          "metadata": {
            "tags": []
          }
        },
        {
          "output_type": "stream",
          "text": [
            "---------------------------\n",
            "Multi spectral image label\n"
          ],
          "name": "stdout"
        },
        {
          "output_type": "display_data",
          "data": {
            "image/png": "[encoded data removed]",
            "text/plain": [
              "<PIL.Image.Image image mode=RGB size=64x64 at 0x7F46837DCF90>"
            ]
          },
          "metadata": {
            "tags": []
          }
        },
        {
          "output_type": "stream",
          "text": [
            "Multi spectral Network Output\n"
          ],
          "name": "stdout"
        },
        {
          "output_type": "display_data",
          "data": {
            "image/png": "[encoded data removed]",
            "text/plain": [
              "<PIL.Image.Image image mode=RGB size=64x64 at 0x7F46837DCCD0>"
            ]
          },
          "metadata": {
            "tags": []
          }
        },
        {
          "output_type": "stream",
          "text": [
            "---------------------------\n",
            "Multi spectral image label\n"
          ],
          "name": "stdout"
        },
        {
          "output_type": "display_data",
          "data": {
            "image/png": "[encoded data removed]",
            "text/plain": [
              "<PIL.Image.Image image mode=RGB size=64x64 at 0x7F46837A2110>"
            ]
          },
          "metadata": {
            "tags": []
          }
        },
        {
          "output_type": "stream",
          "text": [
            "Multi spectral Network Output\n"
          ],
          "name": "stdout"
        },
        {
          "output_type": "display_data",
          "data": {
            "image/png": "[encoded data removed]",
            "text/plain": [
              "<PIL.Image.Image image mode=RGB size=64x64 at 0x7F468379D490>"
            ]
          },
          "metadata": {
            "tags": []
          }
        },
        {
          "output_type": "stream",
          "text": [
            "---------------------------\n",
            "Multi spectral image label\n"
          ],
          "name": "stdout"
        },
        {
          "output_type": "display_data",
          "data": {
            "image/png": "[encoded data removed]",
            "text/plain": [
              "<PIL.Image.Image image mode=RGB size=64x64 at 0x7F46837D7B90>"
            ]
          },
          "metadata": {
            "tags": []
          }
        },
        {
          "output_type": "stream",
          "text": [
            "Multi spectral Network Output\n"
          ],
          "name": "stdout"
        },
        {
          "output_type": "display_data",
          "data": {
            "image/png": "[encoded data removed]",
            "text/plain": [
              "<PIL.Image.Image image mode=RGB size=64x64 at 0x7F46837D5CD0>"
            ]
          },
          "metadata": {
            "tags": []
          }
        },
        {
          "output_type": "stream",
          "text": [
            "---------------------------\n",
            "Multi spectral image label\n"
          ],
          "name": "stdout"
        },
        {
          "output_type": "display_data",
          "data": {
            "image/png": "[encoded data removed]",
            "text/plain": [
              "<PIL.Image.Image image mode=RGB size=64x64 at 0x7F46837FF510>"
            ]
          },
          "metadata": {
            "tags": []
          }
        },
        {
          "output_type": "stream",
          "text": [
            "Multi spectral Network Output\n"
          ],
          "name": "stdout"
        },
        {
          "output_type": "display_data",
          "data": {
            "image/png": "[encoded data removed]",
            "text/plain": [
              "<PIL.Image.Image image mode=RGB size=64x64 at 0x7F46838F9F50>"
            ]
          },
          "metadata": {
            "tags": []
          }
        },
        {
          "output_type": "stream",
          "text": [
            "---------------------------\n",
            "Multi spectral image label\n"
          ],
          "name": "stdout"
        },
        {
          "output_type": "display_data",
          "data": {
            "image/png": "[encoded data removed]",
            "text/plain": [
              "<PIL.Image.Image image mode=RGB size=64x64 at 0x7F468387A1D0>"
            ]
          },
          "metadata": {
            "tags": []
          }
        },
        {
          "output_type": "stream",
          "text": [
            "Multi spectral Network Output\n"
          ],
          "name": "stdout"
        },
        {
          "output_type": "display_data",
          "data": {
            "image/png": "[encoded data removed]",
            "text/plain": [
              "<PIL.Image.Image image mode=RGB size=64x64 at 0x7F46838F9D50>"
            ]
          },
          "metadata": {
            "tags": []
          }
        },
        {
          "output_type": "stream",
          "text": [
            "---------------------------\n",
            "Multi spectral image label\n"
          ],
          "name": "stdout"
        },
        {
          "output_type": "display_data",
          "data": {
            "image/png": "[encoded data removed]",
            "text/plain": [
              "<PIL.Image.Image image mode=RGB size=64x64 at 0x7F4683920B90>"
            ]
          },
          "metadata": {
            "tags": []
          }
        },
        {
          "output_type": "stream",
          "text": [
            "Multi spectral Network Output\n"
          ],
          "name": "stdout"
        },
        {
          "output_type": "display_data",
          "data": {
            "image/png": "[encoded data removed]",
            "text/plain": [
              "<PIL.Image.Image image mode=RGB size=64x64 at 0x7F46E3EE0E90>"
            ]
          },
          "metadata": {
            "tags": []
          }
        },
        {
          "output_type": "stream",
          "text": [
            "---------------------------\n",
            "Multi spectral image label\n"
          ],
          "name": "stdout"
        },
        {
          "output_type": "display_data",
          "data": {
            "image/png": "[encoded data removed]",
            "text/plain": [
              "<PIL.Image.Image image mode=RGB size=64x64 at 0x7F4683A3A290>"
            ]
          },
          "metadata": {
            "tags": []
          }
        },
        {
          "output_type": "stream",
          "text": [
            "Multi spectral Network Output\n"
          ],
          "name": "stdout"
        },
        {
          "output_type": "display_data",
          "data": {
            "image/png": "[encoded data removed]",
            "text/plain": [
              "<PIL.Image.Image image mode=RGB size=64x64 at 0x7F4683A3A9D0>"
            ]
          },
          "metadata": {
            "tags": []
          }
        },
        {
          "output_type": "stream",
          "text": [
            "---------------------------\n",
            "Mean Average Accutacy: tensor(0.8837) Mean IOU: tensor(0.7040)\n"
          ],
          "name": "stdout"
        },
        {
          "output_type": "display_data",
          "data": {
            "text/plain": [
              "<Figure size 720x504 with 0 Axes>"
            ]
          },
          "metadata": {
            "tags": []
          }
        },
        {
          "output_type": "display_data",
          "data": {
            "text/plain": [
              "<Figure size 720x504 with 0 Axes>"
            ]
          },
          "metadata": {
            "tags": []
          }
        },
        {
          "output_type": "display_data",
          "data": {
            "text/plain": [
              "<Figure size 720x504 with 0 Axes>"
            ]
          },
          "metadata": {
            "tags": []
          }
        },
        {
          "output_type": "display_data",
          "data": {
            "text/plain": [
              "<Figure size 720x504 with 0 Axes>"
            ]
          },
          "metadata": {
            "tags": []
          }
        },
        {
          "output_type": "display_data",
          "data": {
            "text/plain": [
              "<Figure size 720x504 with 0 Axes>"
            ]
          },
          "metadata": {
            "tags": []
          }
        },
        {
          "output_type": "display_data",
          "data": {
            "text/plain": [
              "<Figure size 720x504 with 0 Axes>"
            ]
          },
          "metadata": {
            "tags": []
          }
        },
        {
          "output_type": "display_data",
          "data": {
            "text/plain": [
              "<Figure size 720x504 with 0 Axes>"
            ]
          },
          "metadata": {
            "tags": []
          }
        },
        {
          "output_type": "display_data",
          "data": {
            "text/plain": [
              "<Figure size 720x504 with 0 Axes>"
            ]
          },
          "metadata": {
            "tags": []
          }
        }
      ]
    },
    {
      "cell_type": "code",
      "metadata": {
        "id": "PAlss5PFY3Dn"
      },
      "source": [
        ""
      ],
      "execution_count": null,
      "outputs": []
    }
  ]
}