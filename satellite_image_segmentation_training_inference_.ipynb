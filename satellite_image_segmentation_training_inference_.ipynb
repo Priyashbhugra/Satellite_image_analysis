{
  "cells": [
    {
      "cell_type": "code",
      "execution_count": 1,
      "metadata": {
        "colab": {
          "base_uri": "https://localhost:8080/"
        },
        "id": "OmyeuoMHhHMi",
        "outputId": "1d37ecdb-0da7-414a-d0fe-c4d9f655a57b"
      },
      "outputs": [
        {
          "name": "stdout",
          "output_type": "stream",
          "text": [
            "Requirement already satisfied: tifffile in /usr/local/lib/python3.7/dist-packages (2021.6.14)\n",
            "Requirement already satisfied: numpy>=1.15.1 in /usr/local/lib/python3.7/dist-packages (from tifffile) (1.19.5)\n"
          ]
        }
      ],
      "source": [
        "pip install tifffile"
      ]
    },
    {
      "cell_type": "code",
      "execution_count": 2,
      "metadata": {
        "id": "KEQ-MA7WaVa3"
      },
      "outputs": [],
      "source": [
        "import cv2\n",
        "import numpy as np\n",
        "import matplotlib.pyplot as plt\n",
        "import os\n",
        "import pandas\n",
        "from tifffile import imread\n",
        "from PIL import Image\n",
        "from google.colab.patches import cv2_imshow\n",
        "import random\n",
        "import torch\n",
        "from torch.utils.data import DataLoader, Dataset\n",
        "from torch import nn\n",
        "from tqdm import tqdm\n",
        "from torch.utils.tensorboard import SummaryWriter\n",
        "from google.colab.patches import cv2_imshow"
      ]
    },
    {
      "cell_type": "code",
      "execution_count": 3,
      "metadata": {
        "id": "BsSAqlw12C69"
      },
      "outputs": [],
      "source": [
        "os.environ['CUDA_LAUNCH_BLOCKING'] = \"1\"\n",
        "device = \"cuda\""
      ]
    },
    {
      "cell_type": "code",
      "execution_count": 4,
      "metadata": {
        "colab": {
          "base_uri": "https://localhost:8080/"
        },
        "id": "My86lzKmEYel",
        "outputId": "a317ab08-7962-4a7f-da84-72c90366ce12"
      },
      "outputs": [
        {
          "name": "stdout",
          "output_type": "stream",
          "text": [
            "Mounted at /content/drive\n"
          ]
        }
      ],
      "source": [
        "from google.colab import drive\n",
        "drive.mount('/content/drive')"
      ]
    },
    {
      "cell_type": "code",
      "execution_count": 5,
      "metadata": {
        "id": "Ydq1r0CQbxEN"
      },
      "outputs": [],
      "source": [
        "data_path = \"/content/drive/MyDrive/Sentinel/\"\n",
        "checkpoint_path = '/content/drive/MyDrive/Satellite_image_segmenattion/Checkpoints/unet_rgb_segmentation.pth.tar'\n",
        "results_image_path = \"/content/drive/MyDrive/Satellite_image_segmenattion/saved_image/\"\n",
        "images_path = data_path + \"images\"\n",
        "labels_path = data_path + \"labels\"\n",
        "images_id = [f.name for f in os.scandir(images_path)]"
      ]
    },
    {
      "cell_type": "markdown",
      "metadata": {
        "id": "ZRtR0HOsdoYG"
      },
      "source": [
        "## **Visualization of a RGB Image along with its corresponding mask.**"
      ]
    },
    {
      "cell_type": "code",
      "execution_count": 6,
      "metadata": {
        "id": "BdDAVRZnhg5Z"
      },
      "outputs": [],
      "source": [
        "def read_image(images_path,labels_path,id):\n",
        "  image = os.path.join(images_path,images_id[id],\"07.tif\")\n",
        "  label = os.path.join(labels_path,images_id[id],\"dlt.tif\")\n",
        "  img = imread(image)\n",
        "  label = imread(label)\n",
        "  return img,label\n",
        "\n",
        "def image_preprocessing(img):\n",
        "  rgb_image = img[:,:,[2,1,0]]\n",
        "  rgb_image = np.int16(rgb_image)\n",
        "  rgb_image = np.clip(rgb_image,0,1500)\n",
        "  rgb_image = rgb_image/1500 * 255\n",
        "  rgb_image = np.float32(rgb_image)\n",
        "  return rgb_image\n",
        "  \n",
        "def labelVisualize(num_class, color_dict, img):\n",
        "    img = img[:,:,0] if len(img.shape) == 3 else img\n",
        "    img_out = np.zeros((64, 64, 3))\n",
        "    for i in range(num_class):\n",
        "        img_out[img == i,:] = np.asarray(color_dict[i])\n",
        "    return img_out\n",
        "\n",
        "color_dict = {\n",
        "    0: [255, 0, 0],\n",
        "    1: [0, 255, 0],\n",
        "    2: [0, 0, 255],\n",
        "}\n"
      ]
    },
    {
      "cell_type": "code",
      "execution_count": 7,
      "metadata": {
        "id": "8sgphdfPTF2m"
      },
      "outputs": [],
      "source": [
        "# visualization on 1 sample image\n",
        "image,label = read_image(images_path,labels_path,id=20)\n",
        "num_classes = len(np.unique(label))  # No of classes for segmentation\n",
        "rgb_image = image_preprocessing(image)\n",
        "\n",
        "# visualization on 2 sample image\n",
        "image1,label1 = read_image(images_path,labels_path,id=5)\n",
        "rgb_image_01 = image_preprocessing(image1)\n"
      ]
    },
    {
      "cell_type": "code",
      "execution_count": 8,
      "metadata": {
        "colab": {
          "base_uri": "https://localhost:8080/",
          "height": 362
        },
        "id": "Jv0bpqJJtNSd",
        "outputId": "b2d07f6a-721d-413a-be24-63397adfa6f6"
      },
      "outputs": [
        {
          "name": "stdout",
          "output_type": "stream",
          "text": [
            "Image\n"
          ]
        },
        {
          "data": {
            "image/png": "[encoded data removed]",
            "text/plain": [
              "<PIL.Image.Image image mode=RGB size=64x64 at 0x7F264EE75550>"
            ]
          },
          "metadata": {
            "tags": []
          },
          "output_type": "display_data"
        },
        {
          "name": "stdout",
          "output_type": "stream",
          "text": [
            "Label\n"
          ]
        },
        {
          "data": {
            "image/png": "[encoded data removed]",
            "text/plain": [
              "<PIL.Image.Image image mode=RGB size=64x64 at 0x7F264EDFD7D0>"
            ]
          },
          "metadata": {
            "tags": []
          },
          "output_type": "display_data"
        },
        {
          "name": "stdout",
          "output_type": "stream",
          "text": [
            "----------------------\n",
            "Image\n"
          ]
        },
        {
          "data": {
            "image/png": "[encoded data removed]",
            "text/plain": [
              "<PIL.Image.Image image mode=RGB size=64x64 at 0x7F264EDECF50>"
            ]
          },
          "metadata": {
            "tags": []
          },
          "output_type": "display_data"
        },
        {
          "name": "stdout",
          "output_type": "stream",
          "text": [
            "Label\n"
          ]
        },
        {
          "data": {
            "image/png": "[encoded data removed]",
            "text/plain": [
              "<PIL.Image.Image image mode=RGB size=64x64 at 0x7F264EE75490>"
            ]
          },
          "metadata": {
            "tags": []
          },
          "output_type": "display_data"
        }
      ],
      "source": [
        "label = labelVisualize(num_classes,color_dict,label)\n",
        "label_01 = labelVisualize(num_classes,color_dict,label1)\n",
        "print(\"Image\")\n",
        "cv2_imshow(rgb_image)\n",
        "print(\"Label\")\n",
        "cv2_imshow(label)\n",
        "print(\"----------------------\")\n",
        "print(\"Image\")\n",
        "cv2_imshow(rgb_image_01)\n",
        "print(\"Label\")\n",
        "cv2_imshow(label_01)"
      ]
    },
    {
      "cell_type": "markdown",
      "metadata": {
        "id": "1bjls-VHeNRY"
      },
      "source": [
        "**Next shuffle and split the images in train(70%), val(20%), test(10%). I have stored the id's of the image in 3 seperate file.**\n"
      ]
    },
    {
      "cell_type": "code",
      "execution_count": 9,
      "metadata": {
        "colab": {
          "base_uri": "https://localhost:8080/"
        },
        "id": "LgwAs6RyF3L7",
        "outputId": "9d24be82-c0b8-48c6-eae3-a7ad3e90ed18"
      },
      "outputs": [
        {
          "name": "stdout",
          "output_type": "stream",
          "text": [
            "Train split file already exist\n",
            "Val split file already exist\n",
            "Test split file already exist\n"
          ]
        }
      ],
      "source": [
        "if os.path.exists('/content/drive/MyDrive/Sentinel/train.txt'):\n",
        "  print(\"Train split file already exist\")\n",
        "else:\n",
        "  random.shuffle(images_id)\n",
        "  train_image_id = images_id[0:3960]\n",
        "  with open(\"/content/drive/MyDrive/Sentinel/train.txt\", \"w\") as f:\n",
        "    for train_item in train_image_id:\n",
        "        f.write(\"%s\\n\" % train_item)\n",
        "\n",
        "if os.path.exists('/content/drive/MyDrive/Sentinel/val.txt'):\n",
        "  print(\"Val split file already exist\")\n",
        "else:\n",
        "  val_image_id = images_id[3960:5052]\n",
        "  with open(\"/content/drive/MyDrive/Sentinel/val.txt\", \"w\") as f:\n",
        "      for val_item in val_image_id:\n",
        "          f.write(\"%s\\n\" % val_item)\n",
        "\n",
        "if os.path.exists('/content/drive/MyDrive/Sentinel/test.txt'):\n",
        "  print(\"Test split file already exist\")\n",
        "else:\n",
        "  test_image_id = images_id[5052:]\n",
        "  with open(\"/content/drive/MyDrive/Sentinel/test.txt\", \"w\") as f:\n",
        "      for test_item in test_image_id:\n",
        "          f.write(\"%s\\n\" % test_item)\n",
        "\n",
        "with open(\"/content/drive/MyDrive/Sentinel/train.txt\", \"r\") as f:\n",
        "    train_idx = [idx.rstrip() for idx in f]\n",
        "with open(\"/content/drive/MyDrive/Sentinel/val.txt\", \"r\") as f:\n",
        "    val_idx = [idx.rstrip() for idx in f]\n",
        "with open(\"/content/drive/MyDrive/Sentinel/test.txt\", \"r\") as f:\n",
        "    test_idx = [idx.rstrip() for idx in f]\n"
      ]
    },
    {
      "cell_type": "code",
      "execution_count": 12,
      "metadata": {
        "id": "OBDd6_qzbT4K"
      },
      "outputs": [],
      "source": [
        "class Segmentation_Dataset(Dataset):\n",
        "    \"\"\" Image Segmentation Dataset.\"\"\"\n",
        "    def __init__(self, data_path, images_ids):\n",
        "        self.images_path = data_path + \"images\"\n",
        "        self.labels_path = data_path + \"labels\"\n",
        "        self.images_ids = images_ids\n",
        "\n",
        "    def __len__(self):\n",
        "        return len(self.images_ids)\n",
        "\n",
        "    def __getitem__(self, idx):\n",
        "        image = os.path.join(self.images_path,self.images_ids[idx],\"07.tif\")\n",
        "        label = os.path.join(self.labels_path,self.images_ids[idx],\"dlt.tif\")\n",
        "        image = imread(image)\n",
        "        label = imread(label)\n",
        "        label[label==255]=0\n",
        "        # Data Preprocesing\n",
        "        rgb_image = np.transpose(image[:,:,[2,1,0]])\n",
        "        rgb_image = np.int16(rgb_image)\n",
        "        rgb_image = np.clip(rgb_image,0,2000)\n",
        "        rgb_image = rgb_image/2000 * 255\n",
        "        rgb_image = np.float32(rgb_image)\n",
        "        rgb_image = torch.tensor(rgb_image)\n",
        "        label = torch.tensor(label)\n",
        "        return rgb_image,label"
      ]
    },
    {
      "cell_type": "code",
      "execution_count": 13,
      "metadata": {
        "id": "MSbyswh93NZr"
      },
      "outputs": [],
      "source": [
        "class UNET(nn.Module):\n",
        "    def __init__(self, in_channels, out_channels):\n",
        "        super().__init__()\n",
        "        # Conv block\n",
        "        self.conv1 = self.contract_block(in_channels, 32, 7, 3)\n",
        "        self.conv2 = self.contract_block(32, 64, 3, 1)\n",
        "        self.conv3 = self.contract_block(64, 128, 3, 1)\n",
        "\n",
        "        # Upconv block\n",
        "        self.upconv3 = self.expand_block(128, 64, 3, 1)\n",
        "        self.upconv2 = self.expand_block(64*2, 32, 3, 1)\n",
        "        self.upconv1 = self.expand_block(32*2, out_channels, 3, 1)\n",
        "\n",
        "    def __call__(self, x):\n",
        "\n",
        "        # downsampling part\n",
        "        conv1 = self.conv1(x)\n",
        "        conv2 = self.conv2(conv1)\n",
        "        conv3 = self.conv3(conv2)\n",
        "\n",
        "        upconv3 = self.upconv3(conv3)\n",
        "        upconv2 = self.upconv2(torch.cat([upconv3, conv2], 1))\n",
        "        upconv1 = self.upconv1(torch.cat([upconv2, conv1], 1))\n",
        "        return upconv1\n",
        "\n",
        "    def contract_block(self, in_channels, out_channels, kernel_size, padding):\n",
        "\n",
        "        contract = nn.Sequential(\n",
        "            torch.nn.Conv2d(in_channels, out_channels, kernel_size=kernel_size, stride=1, padding=padding),\n",
        "            torch.nn.BatchNorm2d(out_channels),\n",
        "            torch.nn.ReLU(),\n",
        "            torch.nn.Conv2d(out_channels, out_channels, kernel_size=kernel_size, stride=1, padding=padding),\n",
        "            torch.nn.BatchNorm2d(out_channels),\n",
        "            torch.nn.ReLU(),\n",
        "            torch.nn.MaxPool2d(kernel_size=3, stride=2, padding=1)\n",
        "                                 )\n",
        "        return contract\n",
        "\n",
        "    def expand_block(self, in_channels, out_channels, kernel_size, padding):\n",
        "\n",
        "        expand = nn.Sequential(torch.nn.Conv2d(in_channels, out_channels, kernel_size, stride=1, padding=padding),\n",
        "                            torch.nn.BatchNorm2d(out_channels),\n",
        "                            torch.nn.ReLU(),\n",
        "                            torch.nn.Conv2d(out_channels, out_channels, kernel_size, stride=1, padding=padding),\n",
        "                            torch.nn.BatchNorm2d(out_channels),\n",
        "                            torch.nn.ReLU(),\n",
        "                            torch.nn.ConvTranspose2d(out_channels, out_channels, kernel_size=3, stride=2, padding=1, output_padding=1) \n",
        "                            )\n",
        "        return expand\n"
      ]
    },
    {
      "cell_type": "code",
      "execution_count": 14,
      "metadata": {
        "id": "fyiT9rSB41RD"
      },
      "outputs": [],
      "source": [
        "unet = UNET(3,num_classes).cuda()"
      ]
    },
    {
      "cell_type": "code",
      "execution_count": 15,
      "metadata": {
        "id": "7Oq0kkFO5Qc-"
      },
      "outputs": [],
      "source": [
        "train_dataset = Segmentation_Dataset(data_path, train_idx)\n",
        "val_dataset = Segmentation_Dataset(data_path, val_idx)\n",
        "test_dataset = Segmentation_Dataset(data_path, test_idx)\n",
        "\n",
        "train_dl = DataLoader(train_dataset, batch_size=16, shuffle=True, drop_last=True)\n",
        "val_dl = DataLoader(val_dataset, batch_size=16, shuffle=True, drop_last=True)\n",
        "test_dl = DataLoader(test_dataset, batch_size=16, shuffle=True, drop_last=True)\n",
        "loss_function = nn.CrossEntropyLoss()"
      ]
    },
    {
      "cell_type": "code",
      "execution_count": 16,
      "metadata": {
        "id": "veVslC536HF7"
      },
      "outputs": [],
      "source": [
        "def train(model, dataloader, epochs, optimizer, loss_fn, device = \"cuda\"):\n",
        "  model.train()\n",
        "  train_running_loss = 0.0\n",
        "  for iter,(image,label) in enumerate(dataloader):\n",
        "    image = image.to(device)\n",
        "    label = label.to(device)\n",
        "\n",
        "    optimizer.zero_grad()\n",
        "\n",
        "    output = model(image)\n",
        "    loss = loss_function(output,label.long())\n",
        "    if iter%100 == 0:\n",
        "      print(\"Train epochs: \"+str(epochs)+\" Iteration: \"+str(iter)+\" loss: \"+str(loss.item()))\n",
        "\n",
        "    train_running_loss += loss.item()\n",
        "    loss.backward()\n",
        "    optimizer.step()\n",
        "  \n",
        "  return train_running_loss/len(dataloader)\n",
        "\n",
        "def val(model, dataloader, epochs, loss_fn, device = \"cuda\"):\n",
        "  model.eval()\n",
        "  val_running_loss = 0.0\n",
        "  for iter,(image,label) in enumerate(dataloader):\n",
        "    image = image.to(device)\n",
        "    label = label.to(device)\n",
        "    output = model(image)\n",
        "    loss = loss_function(output,label.long())\n",
        "    if iter%100 == 0:\n",
        "      print(\"Val epochs: \"+str(epochs)+\" Iteration: \"+str(iter)+\" loss: \"+str(loss.item()))\n",
        "\n",
        "    val_running_loss += loss.item()\n",
        "\n",
        "  return val_running_loss/len(dataloader)\n",
        "\n"
      ]
    },
    {
      "cell_type": "markdown",
      "metadata": {
        "id": "590TV5HHXWBU"
      },
      "source": [
        "**Due to limited resources, I have trained the model for 10 epochs. For better results we need to train the network for more epochs.**"
      ]
    },
    {
      "cell_type": "code",
      "execution_count": null,
      "metadata": {
        "colab": {
          "base_uri": "https://localhost:8080/"
        },
        "id": "yjCcViMRLidK",
        "outputId": "1ed89cbf-d810-41b5-95f9-6ffee3918682"
      },
      "outputs": [
        {
          "name": "stderr",
          "output_type": "stream",
          "text": [
            "\n",
            "  0%|          | 0/10 [00:00<?, ?it/s]\u001b[A"
          ]
        },
        {
          "name": "stdout",
          "output_type": "stream",
          "text": [
            "Train epochs: 0 Iteration: 0 loss: 1.0459609031677246\n",
            "Train epochs: 0 Iteration: 100 loss: 0.6876450181007385\n",
            "Train epochs: 0 Iteration: 200 loss: 0.7914502620697021\n",
            "Val epochs: 0 Iteration: 0 loss: 0.60783451795578\n"
          ]
        },
        {
          "name": "stderr",
          "output_type": "stream",
          "text": [
            "\n",
            " 10%|█         | 1/10 [57:11<8:34:45, 3431.67s/it]\u001b[A"
          ]
        },
        {
          "name": "stdout",
          "output_type": "stream",
          "text": [
            "Train epochs: 1 Iteration: 0 loss: 0.7133890986442566\n",
            "Train epochs: 1 Iteration: 100 loss: 0.61830073595047\n",
            "Train epochs: 1 Iteration: 200 loss: 0.7939656972885132\n",
            "Val epochs: 1 Iteration: 0 loss: 0.7108995914459229\n"
          ]
        },
        {
          "name": "stderr",
          "output_type": "stream",
          "text": [
            "\n",
            " 20%|██        | 2/10 [57:49<5:21:48, 2413.60s/it]\u001b[A"
          ]
        },
        {
          "name": "stdout",
          "output_type": "stream",
          "text": [
            "Train epochs: 2 Iteration: 0 loss: 0.7337631583213806\n",
            "Train epochs: 2 Iteration: 100 loss: 0.7895337343215942\n",
            "Train epochs: 2 Iteration: 200 loss: 0.7699487209320068\n",
            "Val epochs: 2 Iteration: 0 loss: 0.6046173572540283\n"
          ]
        },
        {
          "name": "stderr",
          "output_type": "stream",
          "text": [
            "\n",
            " 30%|███       | 3/10 [58:19<3:18:08, 1698.40s/it]\u001b[A"
          ]
        },
        {
          "name": "stdout",
          "output_type": "stream",
          "text": [
            "Train epochs: 3 Iteration: 0 loss: 0.5321299433708191\n",
            "Train epochs: 3 Iteration: 100 loss: 0.6676788330078125\n",
            "Train epochs: 3 Iteration: 200 loss: 0.5189341306686401\n",
            "Val epochs: 3 Iteration: 0 loss: 0.6118295192718506\n"
          ]
        },
        {
          "name": "stderr",
          "output_type": "stream",
          "text": [
            "\n",
            " 40%|████      | 4/10 [58:49<1:59:46, 1197.77s/it]\u001b[A"
          ]
        },
        {
          "name": "stdout",
          "output_type": "stream",
          "text": [
            "Train epochs: 4 Iteration: 0 loss: 1.0758188962936401\n",
            "Train epochs: 4 Iteration: 100 loss: 0.5880817770957947\n",
            "Train epochs: 4 Iteration: 200 loss: 0.7642186284065247\n",
            "Val epochs: 4 Iteration: 0 loss: 0.4621434807777405\n"
          ]
        },
        {
          "name": "stderr",
          "output_type": "stream",
          "text": [
            "\n",
            " 50%|█████     | 5/10 [59:18<1:10:36, 847.36s/it] \u001b[A"
          ]
        },
        {
          "name": "stdout",
          "output_type": "stream",
          "text": [
            "Train epochs: 5 Iteration: 0 loss: 0.5520367622375488\n",
            "Train epochs: 5 Iteration: 100 loss: 0.6778591871261597\n",
            "Train epochs: 5 Iteration: 200 loss: 0.7471805810928345\n",
            "Val epochs: 5 Iteration: 0 loss: 0.8941441178321838\n"
          ]
        },
        {
          "name": "stderr",
          "output_type": "stream",
          "text": [
            "\n",
            " 60%|██████    | 6/10 [59:49<40:09, 602.26s/it]  \u001b[A"
          ]
        },
        {
          "name": "stdout",
          "output_type": "stream",
          "text": [
            "Train epochs: 6 Iteration: 0 loss: 0.6289632320404053\n",
            "Train epochs: 6 Iteration: 100 loss: 0.9033392071723938\n",
            "Train epochs: 6 Iteration: 200 loss: 0.6777454614639282\n",
            "Val epochs: 6 Iteration: 0 loss: 0.7122228145599365\n"
          ]
        },
        {
          "name": "stderr",
          "output_type": "stream",
          "text": [
            "\n",
            " 70%|███████   | 7/10 [1:00:19<21:32, 430.77s/it]\u001b[A"
          ]
        },
        {
          "name": "stdout",
          "output_type": "stream",
          "text": [
            "Train epochs: 7 Iteration: 0 loss: 0.6236622333526611\n",
            "Train epochs: 7 Iteration: 100 loss: 0.485411137342453\n",
            "Train epochs: 7 Iteration: 200 loss: 0.7328296303749084\n",
            "Val epochs: 7 Iteration: 0 loss: 0.732997715473175\n"
          ]
        },
        {
          "name": "stderr",
          "output_type": "stream",
          "text": [
            "\n",
            " 80%|████████  | 8/10 [1:00:49<10:21, 310.56s/it]\u001b[A"
          ]
        },
        {
          "name": "stdout",
          "output_type": "stream",
          "text": [
            "Train epochs: 8 Iteration: 0 loss: 0.568823516368866\n",
            "Train epochs: 8 Iteration: 100 loss: 0.7055308222770691\n",
            "Train epochs: 8 Iteration: 200 loss: 0.79799485206604\n",
            "Val epochs: 8 Iteration: 0 loss: 0.6599639058113098\n"
          ]
        },
        {
          "name": "stderr",
          "output_type": "stream",
          "text": [
            "\n",
            " 90%|█████████ | 9/10 [1:01:19<03:46, 226.30s/it]\u001b[A"
          ]
        },
        {
          "name": "stdout",
          "output_type": "stream",
          "text": [
            "Train epochs: 9 Iteration: 0 loss: 0.5337472558021545\n",
            "Train epochs: 9 Iteration: 100 loss: 0.5658998489379883\n",
            "Train epochs: 9 Iteration: 200 loss: 0.5811692476272583\n",
            "Val epochs: 9 Iteration: 0 loss: 0.5896685123443604\n"
          ]
        },
        {
          "name": "stderr",
          "output_type": "stream",
          "text": [
            "\n",
            "100%|██████████| 10/10 [1:01:49<00:00, 370.96s/it]\n"
          ]
        }
      ],
      "source": [
        "num_of_epochs = 10\n",
        "optimizer = torch.optim.Adam(unet.parameters(), lr=0.01)\n",
        "min_loss = np.inf\n",
        "for epoch in tqdm(range(num_of_epochs)):\n",
        "  train_loss = train(unet, train_dl, epoch, optimizer, loss_fn, device=\"cuda\")\n",
        "  val_loss = val(unet, val_dl, epoch, loss_function, device=\"cuda\")\n",
        "  # writer.add_scalar(\"Loss/train\", train_loss, epoch)\n",
        "  # writer.add_scalar(\"Loss/val\", val_loss, epoch)\n",
        "  \n",
        "  if (val_loss < min_loss):\n",
        "    min_loss = val_loss\n",
        "    checkpoint = {\n",
        "        \"model\" : unet.state_dict(),\n",
        "        \"Val Loss\" : val_loss\n",
        "    }\n",
        "    torch.save(checkpoint,checkpoint_path)"
      ]
    },
    {
      "cell_type": "markdown",
      "metadata": {
        "id": "ML3HF7nUrpSK"
      },
      "source": [
        "### **Inference on RGB Image**"
      ]
    },
    {
      "cell_type": "code",
      "execution_count": 19,
      "metadata": {
        "id": "V-OhMYLrK-pV"
      },
      "outputs": [],
      "source": [
        "# Load RGB model\n",
        "def Load_model(model_dir):  \n",
        "  checkpoint = torch.load(model_dir)\n",
        "  model = unet\n",
        "  model.load_state_dict(checkpoint['model'])\n",
        "  model = model.to(device=\"cuda\")\n",
        "  model.eval()\n",
        "  return model"
      ]
    },
    {
      "cell_type": "code",
      "execution_count": 20,
      "metadata": {
        "id": "pyBjW9m1vMpZ"
      },
      "outputs": [],
      "source": [
        "def one_hot_encoding(label):\n",
        "    labels = [0, 1, 2]\n",
        "    semantics = []\n",
        "    for colour in labels:\n",
        "        equality = np.equal(label, colour)\n",
        "        semantics.append(equality)\n",
        "    semantics = np.stack(semantics, axis=-1)\n",
        "    return semantics\n",
        "\n",
        "def accuracy(outputs, labels):\n",
        "    tp = torch.sum(torch.logical_and(labels, outputs))\n",
        "    tn = torch.numel(outputs) - torch.sum(torch.logical_or(labels, outputs))\n",
        "    acc = (tp + tn) / torch.numel(outputs)\n",
        "    return acc\n",
        "\n",
        "def iou_matrix(outputs, labels):\n",
        "    intersection = torch.logical_and(labels, outputs)\n",
        "    union = torch.logical_or(labels, outputs)\n",
        "    iou = (torch.sum(intersection) + SMOOTH) / (torch.sum(union)+ SMOOTH)\n",
        "    return iou"
      ]
    },
    {
      "cell_type": "code",
      "execution_count": 21,
      "metadata": {
        "colab": {
          "base_uri": "https://localhost:8080/",
          "height": 1000
        },
        "id": "pXRckjn-sDUx",
        "outputId": "87e8145a-96bf-49ce-9fa6-bb2e167b4eac"
      },
      "outputs": [
        {
          "name": "stdout",
          "output_type": "stream",
          "text": [
            "Image\n"
          ]
        },
        {
          "name": "stderr",
          "output_type": "stream",
          "text": [
            "/usr/local/lib/python3.7/dist-packages/torch/nn/functional.py:718: UserWarning: Named tensors and all their associated APIs are an experimental feature and subject to change. Please do not use them for anything important until they are released as stable. (Triggered internally at  /pytorch/c10/core/TensorImpl.h:1156.)\n",
            "  return torch.max_pool2d(input, kernel_size, stride, padding, dilation, ceil_mode)\n"
          ]
        },
        {
          "data": {
            "image/png": "[encoded data removed]",
            "text/plain": [
              "<PIL.Image.Image image mode=RGB size=64x64 at 0x7F264CCDCF10>"
            ]
          },
          "metadata": {
            "tags": []
          },
          "output_type": "display_data"
        },
        {
          "name": "stdout",
          "output_type": "stream",
          "text": [
            "Label\n"
          ]
        },
        {
          "data": {
            "image/png": "[encoded data removed]",
            "text/plain": [
              "<PIL.Image.Image image mode=RGB size=64x64 at 0x7F264CC6F210>"
            ]
          },
          "metadata": {
            "tags": []
          },
          "output_type": "display_data"
        },
        {
          "name": "stdout",
          "output_type": "stream",
          "text": [
            "Network Output\n"
          ]
        },
        {
          "data": {
            "image/png": "[encoded data removed]",
            "text/plain": [
              "<PIL.Image.Image image mode=RGB size=64x64 at 0x7F264CC6F310>"
            ]
          },
          "metadata": {
            "tags": []
          },
          "output_type": "display_data"
        },
        {
          "name": "stdout",
          "output_type": "stream",
          "text": [
            "---------------------------\n",
            "Image\n"
          ]
        },
        {
          "data": {
            "image/png": "[encoded data removed]",
            "text/plain": [
              "<PIL.Image.Image image mode=RGB size=64x64 at 0x7F264CC84C90>"
            ]
          },
          "metadata": {
            "tags": []
          },
          "output_type": "display_data"
        },
        {
          "name": "stdout",
          "output_type": "stream",
          "text": [
            "Label\n"
          ]
        },
        {
          "data": {
            "image/png": "[encoded data removed]",
            "text/plain": [
              "<PIL.Image.Image image mode=RGB size=64x64 at 0x7F264CC845D0>"
            ]
          },
          "metadata": {
            "tags": []
          },
          "output_type": "display_data"
        },
        {
          "name": "stdout",
          "output_type": "stream",
          "text": [
            "Network Output\n"
          ]
        },
        {
          "data": {
            "image/png": "[encoded data removed]",
            "text/plain": [
              "<PIL.Image.Image image mode=RGB size=64x64 at 0x7F264CC84610>"
            ]
          },
          "metadata": {
            "tags": []
          },
          "output_type": "display_data"
        },
        {
          "name": "stdout",
          "output_type": "stream",
          "text": [
            "---------------------------\n",
            "Image\n"
          ]
        },
        {
          "data": {
            "image/png": "[encoded data removed]",
            "text/plain": [
              "<PIL.Image.Image image mode=RGB size=64x64 at 0x7F264CC27510>"
            ]
          },
          "metadata": {
            "tags": []
          },
          "output_type": "display_data"
        },
        {
          "name": "stdout",
          "output_type": "stream",
          "text": [
            "Label\n"
          ]
        },
        {
          "data": {
            "image/png": "[encoded data removed]",
            "text/plain": [
              "<PIL.Image.Image image mode=RGB size=64x64 at 0x7F264CC27F90>"
            ]
          },
          "metadata": {
            "tags": []
          },
          "output_type": "display_data"
        },
        {
          "name": "stdout",
          "output_type": "stream",
          "text": [
            "Network Output\n"
          ]
        },
        {
          "data": {
            "image/png": "[encoded data removed]",
            "text/plain": [
              "<PIL.Image.Image image mode=RGB size=64x64 at 0x7F264CC27150>"
            ]
          },
          "metadata": {
            "tags": []
          },
          "output_type": "display_data"
        },
        {
          "name": "stdout",
          "output_type": "stream",
          "text": [
            "---------------------------\n",
            "Image\n"
          ]
        },
        {
          "data": {
            "image/png": "[encoded data removed]",
            "text/plain": [
              "<PIL.Image.Image image mode=RGB size=64x64 at 0x7F264CC46190>"
            ]
          },
          "metadata": {
            "tags": []
          },
          "output_type": "display_data"
        },
        {
          "name": "stdout",
          "output_type": "stream",
          "text": [
            "Label\n"
          ]
        },
        {
          "data": {
            "image/png": "[encoded data removed]",
            "text/plain": [
              "<PIL.Image.Image image mode=RGB size=64x64 at 0x7F264CC46390>"
            ]
          },
          "metadata": {
            "tags": []
          },
          "output_type": "display_data"
        },
        {
          "name": "stdout",
          "output_type": "stream",
          "text": [
            "Network Output\n"
          ]
        },
        {
          "data": {
            "image/png": "[encoded data removed]",
            "text/plain": [
              "<PIL.Image.Image image mode=RGB size=64x64 at 0x7F264CC46E10>"
            ]
          },
          "metadata": {
            "tags": []
          },
          "output_type": "display_data"
        },
        {
          "name": "stdout",
          "output_type": "stream",
          "text": [
            "---------------------------\n",
            "Image\n"
          ]
        },
        {
          "data": {
            "image/png": "[encoded data removed]",
            "text/plain": [
              "<PIL.Image.Image image mode=RGB size=64x64 at 0x7F264CC53C50>"
            ]
          },
          "metadata": {
            "tags": []
          },
          "output_type": "display_data"
        },
        {
          "name": "stdout",
          "output_type": "stream",
          "text": [
            "Label\n"
          ]
        },
        {
          "data": {
            "image/png": "[encoded data removed]",
            "text/plain": [
              "<PIL.Image.Image image mode=RGB size=64x64 at 0x7F264CC4A110>"
            ]
          },
          "metadata": {
            "tags": []
          },
          "output_type": "display_data"
        },
        {
          "name": "stdout",
          "output_type": "stream",
          "text": [
            "Network Output\n"
          ]
        },
        {
          "data": {
            "image/png": "[encoded data removed]",
            "text/plain": [
              "<PIL.Image.Image image mode=RGB size=64x64 at 0x7F264CC53850>"
            ]
          },
          "metadata": {
            "tags": []
          },
          "output_type": "display_data"
        },
        {
          "name": "stdout",
          "output_type": "stream",
          "text": [
            "---------------------------\n",
            "Image\n"
          ]
        },
        {
          "data": {
            "image/png": "[encoded data removed]",
            "text/plain": [
              "<PIL.Image.Image image mode=RGB size=64x64 at 0x7F264CC534D0>"
            ]
          },
          "metadata": {
            "tags": []
          },
          "output_type": "display_data"
        },
        {
          "name": "stdout",
          "output_type": "stream",
          "text": [
            "Label\n"
          ]
        },
        {
          "data": {
            "image/png": "[encoded data removed]",
            "text/plain": [
              "<PIL.Image.Image image mode=RGB size=64x64 at 0x7F264CC512D0>"
            ]
          },
          "metadata": {
            "tags": []
          },
          "output_type": "display_data"
        },
        {
          "name": "stdout",
          "output_type": "stream",
          "text": [
            "Network Output\n"
          ]
        },
        {
          "data": {
            "image/png": "[encoded data removed]",
            "text/plain": [
              "<PIL.Image.Image image mode=RGB size=64x64 at 0x7F264CC51090>"
            ]
          },
          "metadata": {
            "tags": []
          },
          "output_type": "display_data"
        },
        {
          "name": "stdout",
          "output_type": "stream",
          "text": [
            "---------------------------\n",
            "Image\n"
          ]
        },
        {
          "data": {
            "image/png": "[encoded data removed]",
            "text/plain": [
              "<PIL.Image.Image image mode=RGB size=64x64 at 0x7F264CBFD450>"
            ]
          },
          "metadata": {
            "tags": []
          },
          "output_type": "display_data"
        },
        {
          "name": "stdout",
          "output_type": "stream",
          "text": [
            "Label\n"
          ]
        },
        {
          "data": {
            "image/png": "[encoded data removed]",
            "text/plain": [
              "<PIL.Image.Image image mode=RGB size=64x64 at 0x7F264CBFD710>"
            ]
          },
          "metadata": {
            "tags": []
          },
          "output_type": "display_data"
        },
        {
          "name": "stdout",
          "output_type": "stream",
          "text": [
            "Network Output\n"
          ]
        },
        {
          "data": {
            "image/png": "[encoded data removed]",
            "text/plain": [
              "<PIL.Image.Image image mode=RGB size=64x64 at 0x7F264EF76C50>"
            ]
          },
          "metadata": {
            "tags": []
          },
          "output_type": "display_data"
        },
        {
          "name": "stdout",
          "output_type": "stream",
          "text": [
            "---------------------------\n",
            "Image\n"
          ]
        },
        {
          "data": {
            "image/png": "[encoded data removed]",
            "text/plain": [
              "<PIL.Image.Image image mode=RGB size=64x64 at 0x7F264CC40D90>"
            ]
          },
          "metadata": {
            "tags": []
          },
          "output_type": "display_data"
        },
        {
          "name": "stdout",
          "output_type": "stream",
          "text": [
            "Label\n"
          ]
        },
        {
          "data": {
            "image/png": "[encoded data removed]",
            "text/plain": [
              "<PIL.Image.Image image mode=RGB size=64x64 at 0x7F264CC51150>"
            ]
          },
          "metadata": {
            "tags": []
          },
          "output_type": "display_data"
        },
        {
          "name": "stdout",
          "output_type": "stream",
          "text": [
            "Network Output\n"
          ]
        },
        {
          "data": {
            "image/png": "[encoded data removed]",
            "text/plain": [
              "<PIL.Image.Image image mode=RGB size=64x64 at 0x7F264CC51DD0>"
            ]
          },
          "metadata": {
            "tags": []
          },
          "output_type": "display_data"
        },
        {
          "name": "stdout",
          "output_type": "stream",
          "text": [
            "---------------------------\n",
            "Mean Average Accutacy: tensor(0.8210) Mean IOU: tensor(0.5799)\n"
          ]
        },
        {
          "data": {
            "text/plain": [
              "<Figure size 720x504 with 0 Axes>"
            ]
          },
          "metadata": {
            "tags": []
          },
          "output_type": "display_data"
        },
        {
          "data": {
            "text/plain": [
              "<Figure size 720x504 with 0 Axes>"
            ]
          },
          "metadata": {
            "tags": []
          },
          "output_type": "display_data"
        },
        {
          "data": {
            "text/plain": [
              "<Figure size 720x504 with 0 Axes>"
            ]
          },
          "metadata": {
            "tags": []
          },
          "output_type": "display_data"
        },
        {
          "data": {
            "text/plain": [
              "<Figure size 720x504 with 0 Axes>"
            ]
          },
          "metadata": {
            "tags": []
          },
          "output_type": "display_data"
        },
        {
          "data": {
            "text/plain": [
              "<Figure size 720x504 with 0 Axes>"
            ]
          },
          "metadata": {
            "tags": []
          },
          "output_type": "display_data"
        },
        {
          "data": {
            "text/plain": [
              "<Figure size 720x504 with 0 Axes>"
            ]
          },
          "metadata": {
            "tags": []
          },
          "output_type": "display_data"
        },
        {
          "data": {
            "text/plain": [
              "<Figure size 720x504 with 0 Axes>"
            ]
          },
          "metadata": {
            "tags": []
          },
          "output_type": "display_data"
        },
        {
          "data": {
            "text/plain": [
              "<Figure size 720x504 with 0 Axes>"
            ]
          },
          "metadata": {
            "tags": []
          },
          "output_type": "display_data"
        }
      ],
      "source": [
        "running_acc = 0.0\n",
        "running_iou = 0.0\n",
        "SMOOTH = 1e-6\n",
        "# Load the model for inference\n",
        "model = Load_model(checkpoint_path)\n",
        "# iteration over all the test images\n",
        "for idx, item in enumerate(test_dl):\n",
        "  image = item[0].to(device)\n",
        "  label = item[1]\n",
        "  one_hot_label = one_hot_encoding(label.numpy())\n",
        "  label = label.to(device)\n",
        "  output = model(image)\n",
        "  output = torch.argmax(output, dim=1)\n",
        "  \n",
        "  output_for_metrics = torch.Tensor(one_hot_encoding(output.detach().cpu().numpy())).int()\n",
        "  label_for_metrics = torch.tensor(one_hot_label)\n",
        "\n",
        "  # accuaracy metric\n",
        "  acc = accuracy(output_for_metrics, label_for_metrics)\n",
        "  running_acc += acc\n",
        "\n",
        "  # iou metric\n",
        "  iou = iou_matrix(output_for_metrics, label_for_metrics)\n",
        "  running_iou += iou\n",
        "\n",
        "  # Visualization of every 5th image from the test sample\n",
        "  if idx % 5 == 0:\n",
        "    fig = plt.figure(figsize=(10, 7))\n",
        "    image = torch.transpose(image[0], 0, 2).cpu().numpy()\n",
        "\n",
        "    output = output[0].detach().cpu().numpy()\n",
        "    output = labelVisualize(3, color_dict, output)\n",
        "\n",
        "    label = label[0].cpu().numpy()  \n",
        "    label = labelVisualize(3, color_dict, label)\n",
        "\n",
        "    cv2.imwrite(results_image_path+'res'+str(idx)+'_image.png',image)\n",
        "    cv2.imwrite(results_image_path+'res'+str(idx)+'_label.png',label)\n",
        "    cv2.imwrite(results_image_path+'res'+str(idx)+'_output.png',output)\n",
        "    print(\"Image\")\n",
        "    cv2_imshow(image)\n",
        "    print(\"Label\")\n",
        "    cv2_imshow(label)\n",
        "    print(\"Network Output\")\n",
        "    cv2_imshow(output)\n",
        "    print(\"---------------------------\")\n",
        "    if idx == 100:  # To visualize the results on the first few images from the test dataset\n",
        "      break\n",
        "\n",
        "mean_acc = running_acc / len(test_dl)  # Mean accuaracy\n",
        "mean_iou = running_iou / len(test_dl)  # Mean IOU\n",
        "print(\"Mean Average Accutacy: \"+str(mean_acc)+\" Mean IOU: \"+str(mean_iou))"
      ]
    },
    {
      "cell_type": "code",
      "execution_count": null,
      "metadata": {
        "id": "JTQFgaD12vnN"
      },
      "outputs": [],
      "source": []
    },
    {
      "cell_type": "code",
      "execution_count": null,
      "metadata": {
        "id": "Ut5JXoK_vmDP"
      },
      "outputs": [],
      "source": []
    }
  ],
  "metadata": {
    "accelerator": "GPU",
    "colab": {
      "collapsed_sections": [],
      "history_visible": true,
      "name": "satellite_image_segmentation_training_inference.ipynb",
      "provenance": []
    },
    "kernelspec": {
      "display_name": "Python 3",
      "name": "python3"
    },
    "language_info": {
      "name": "python"
    }
  },
  "nbformat": 4,
  "nbformat_minor": 0
}
